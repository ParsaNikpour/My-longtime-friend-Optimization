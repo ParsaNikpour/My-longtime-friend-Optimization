{
  "nbformat": 4,
  "nbformat_minor": 0,
  "metadata": {
    "colab": {
      "provenance": []
    },
    "kernelspec": {
      "name": "python3",
      "display_name": "Python 3"
    },
    "language_info": {
      "name": "python"
    }
  },
  "cells": [
    {
      "cell_type": "markdown",
      "source": [
        "#Import"
      ],
      "metadata": {
        "id": "iVJ-lc0gt4hd"
      }
    },
    {
      "cell_type": "code",
      "source": [
        "import time\n",
        "from pyomo.environ import *\n",
        "from pyomo.gdp import *\n",
        "import shutil\n",
        "import sys\n",
        "import os.path\n",
        "from pyomo.gdp import *"
      ],
      "metadata": {
        "id": "HKyU6nK-XDaF",
        "collapsed": true
      },
      "execution_count": 2,
      "outputs": []
    },
    {
      "cell_type": "code",
      "source": [
        "%%capture\n",
        "import sys\n",
        "import os\n",
        "\n",
        "import sys, os\n",
        "\n",
        "\n",
        "if 'google.colab' in sys.modules:\n",
        "    %pip install idaes-pse --pre >/dev/null 2>/dev/null\n",
        "    %pip install highspy >/dev/null 2>/dev/null\n",
        "    !idaes get-extensions --to ./bin\n",
        "    os.environ['PATH'] += ':bin'\n",
        "\n",
        "solver_NLO = \"ipopt\"\n",
        "\n",
        "assert SolverFactory(solver_NLO).available(), f\"Solver {solver_NLO} is not available.\""
      ],
      "metadata": {
        "id": "AULZuMazS3Z9"
      },
      "execution_count": 3,
      "outputs": []
    },
    {
      "cell_type": "code",
      "source": [
        "!apt-get install -y glpk-utils"
      ],
      "metadata": {
        "colab": {
          "base_uri": "https://localhost:8080/"
        },
        "collapsed": true,
        "id": "alS6-3idiOq1",
        "outputId": "bb1cb6a4-6f42-45e7-9f7b-1c3ff28f8f52"
      },
      "execution_count": 4,
      "outputs": [
        {
          "output_type": "stream",
          "name": "stdout",
          "text": [
            "Reading package lists... Done\n",
            "Building dependency tree... Done\n",
            "Reading state information... Done\n",
            "The following additional packages will be installed:\n",
            "  libamd2 libcolamd2 libglpk40 libsuitesparseconfig5\n",
            "Suggested packages:\n",
            "  libiodbc2-dev\n",
            "The following NEW packages will be installed:\n",
            "  glpk-utils libamd2 libcolamd2 libglpk40 libsuitesparseconfig5\n",
            "0 upgraded, 5 newly installed, 0 to remove and 20 not upgraded.\n",
            "Need to get 625 kB of archives.\n",
            "After this operation, 2,158 kB of additional disk space will be used.\n",
            "Get:1 http://archive.ubuntu.com/ubuntu jammy/main amd64 libsuitesparseconfig5 amd64 1:5.10.1+dfsg-4build1 [10.4 kB]\n",
            "Get:2 http://archive.ubuntu.com/ubuntu jammy/universe amd64 libamd2 amd64 1:5.10.1+dfsg-4build1 [21.6 kB]\n",
            "Get:3 http://archive.ubuntu.com/ubuntu jammy/main amd64 libcolamd2 amd64 1:5.10.1+dfsg-4build1 [18.0 kB]\n",
            "Get:4 http://archive.ubuntu.com/ubuntu jammy/universe amd64 libglpk40 amd64 5.0-1 [361 kB]\n",
            "Get:5 http://archive.ubuntu.com/ubuntu jammy/universe amd64 glpk-utils amd64 5.0-1 [214 kB]\n",
            "Fetched 625 kB in 1s (896 kB/s)\n",
            "Selecting previously unselected package libsuitesparseconfig5:amd64.\n",
            "(Reading database ... 124926 files and directories currently installed.)\n",
            "Preparing to unpack .../libsuitesparseconfig5_1%3a5.10.1+dfsg-4build1_amd64.deb ...\n",
            "Unpacking libsuitesparseconfig5:amd64 (1:5.10.1+dfsg-4build1) ...\n",
            "Selecting previously unselected package libamd2:amd64.\n",
            "Preparing to unpack .../libamd2_1%3a5.10.1+dfsg-4build1_amd64.deb ...\n",
            "Unpacking libamd2:amd64 (1:5.10.1+dfsg-4build1) ...\n",
            "Selecting previously unselected package libcolamd2:amd64.\n",
            "Preparing to unpack .../libcolamd2_1%3a5.10.1+dfsg-4build1_amd64.deb ...\n",
            "Unpacking libcolamd2:amd64 (1:5.10.1+dfsg-4build1) ...\n",
            "Selecting previously unselected package libglpk40:amd64.\n",
            "Preparing to unpack .../libglpk40_5.0-1_amd64.deb ...\n",
            "Unpacking libglpk40:amd64 (5.0-1) ...\n",
            "Selecting previously unselected package glpk-utils.\n",
            "Preparing to unpack .../glpk-utils_5.0-1_amd64.deb ...\n",
            "Unpacking glpk-utils (5.0-1) ...\n",
            "Setting up libsuitesparseconfig5:amd64 (1:5.10.1+dfsg-4build1) ...\n",
            "Setting up libamd2:amd64 (1:5.10.1+dfsg-4build1) ...\n",
            "Setting up libcolamd2:amd64 (1:5.10.1+dfsg-4build1) ...\n",
            "Setting up libglpk40:amd64 (5.0-1) ...\n",
            "Setting up glpk-utils (5.0-1) ...\n",
            "Processing triggers for man-db (2.10.2-1) ...\n",
            "Processing triggers for libc-bin (2.35-0ubuntu3.8) ...\n",
            "/sbin/ldconfig.real: /usr/local/lib/libur_adapter_level_zero.so.0 is not a symbolic link\n",
            "\n",
            "/sbin/ldconfig.real: /usr/local/lib/libtcm.so.1 is not a symbolic link\n",
            "\n",
            "/sbin/ldconfig.real: /usr/local/lib/libumf.so.0 is not a symbolic link\n",
            "\n",
            "/sbin/ldconfig.real: /usr/local/lib/libtcm_debug.so.1 is not a symbolic link\n",
            "\n",
            "/sbin/ldconfig.real: /usr/local/lib/libtbbbind_2_0.so.3 is not a symbolic link\n",
            "\n",
            "/sbin/ldconfig.real: /usr/local/lib/libtbb.so.12 is not a symbolic link\n",
            "\n",
            "/sbin/ldconfig.real: /usr/local/lib/libtbbbind.so.3 is not a symbolic link\n",
            "\n",
            "/sbin/ldconfig.real: /usr/local/lib/libur_loader.so.0 is not a symbolic link\n",
            "\n",
            "/sbin/ldconfig.real: /usr/local/lib/libur_adapter_opencl.so.0 is not a symbolic link\n",
            "\n",
            "/sbin/ldconfig.real: /usr/local/lib/libtbbbind_2_5.so.3 is not a symbolic link\n",
            "\n",
            "/sbin/ldconfig.real: /usr/local/lib/libtbbmalloc_proxy.so.2 is not a symbolic link\n",
            "\n",
            "/sbin/ldconfig.real: /usr/local/lib/libtbbmalloc.so.2 is not a symbolic link\n",
            "\n",
            "/sbin/ldconfig.real: /usr/local/lib/libhwloc.so.15 is not a symbolic link\n",
            "\n"
          ]
        }
      ]
    },
    {
      "cell_type": "markdown",
      "source": [
        "#Model"
      ],
      "metadata": {
        "id": "_VjDd8dNuA_C"
      }
    },
    {
      "cell_type": "code",
      "execution_count": 6,
      "metadata": {
        "id": "kYbCDqG3WA7A"
      },
      "outputs": [],
      "source": [
        "# Create the model\n",
        "def Process(reformulation=None, solver=None):\n",
        "    # Create the model\n",
        "    model = ConcreteModel()\n",
        "\n",
        "    # Variables\n",
        "    model.x = Var(range(1, 6), bounds=(0, 10))  # Variables for each process (x1, x2, ..., x5)\n",
        "    model.y = Var(range(1, 6), bounds=(0, 10))  # Variables for each process (y1, y2, ..., y5)\n",
        "\n",
        "    # Disjuncts for each process\n",
        "    def process_rule(disjunct, process):\n",
        "        model = disjunct.model()\n",
        "        if process == 1:\n",
        "            disjunct.cost = Expression(expr=model.x[1]**2 + model.y[1]**2)\n",
        "            disjunct.constraint = Constraint(expr=model.x[1] + model.y[1] >= 5)\n",
        "        elif process == 2:\n",
        "            disjunct.cost = Expression(expr=model.x[2]**3 + model.y[2]**3)\n",
        "            disjunct.constraint = Constraint(expr=model.x[2] * model.y[2] >= 10)\n",
        "        elif process == 3:\n",
        "            disjunct.cost = Expression(expr=model.x[3]**2 + model.y[3]**3)\n",
        "            disjunct.constraint = Constraint(expr=model.x[3] + model.y[3]**2 >= 8)\n",
        "        elif process == 4:\n",
        "            disjunct.cost = Expression(expr=model.x[4]**3 + model.y[4]**2)\n",
        "            disjunct.constraint = Constraint(expr=model.x[4] * model.y[4] + model.x[4] >= 12)\n",
        "        elif process == 5:\n",
        "            disjunct.cost = Expression(expr=model.x[5]**2 + model.y[5]**2 + model.x[5] * model.y[5])\n",
        "            disjunct.constraint = Constraint(expr=model.x[5] + model.y[5] >= 7)\n",
        "\n",
        "    # Create disjuncts for each process\n",
        "    model.process = Disjunct(range(1, 6), rule=process_rule)\n",
        "\n",
        "    # Disjunction: Choose exactly one process\n",
        "    model.choose_process = Disjunction(expr=[model.process[i] for i in range(1, 6)])\n",
        "\n",
        "    # Objective: Minimize the cost of the selected process\n",
        "    def objective_rule(model):\n",
        "        return sum(model.process[i].cost for i in range(1, 6))\n",
        "    model.obj = Objective(rule=objective_rule, sense=minimize)\n",
        "\n",
        "    if reformulation == None:\n",
        "        return model\n",
        "    if solver == None:\n",
        "        TransformationFactory(reformulation).apply_to(model)\n",
        "\n",
        "    else:\n",
        "        TransformationFactory(reformulation).apply_to(model, solver = solver)\n",
        "\n",
        "    return model"
      ]
    },
    {
      "cell_type": "code",
      "source": [
        "def result(model, end, start):\n",
        "  print('Time=', end-start)\n",
        "  print(\"Objective Value:\", model.obj())\n",
        "\n",
        "  for i in range(1, 6):\n",
        "      if model.process[i].indicator_var.value == 1:\n",
        "          print(f\"Process {i} is selected.\")\n",
        "          print(f\"x{i} = {model.x[i].value}, y{i} = {model.y[i].value}\")\n",
        "          break"
      ],
      "metadata": {
        "id": "P4tvNaVbAkjy"
      },
      "execution_count": 7,
      "outputs": []
    },
    {
      "cell_type": "markdown",
      "source": [
        "#Convex Hull"
      ],
      "metadata": {
        "id": "RPbv8mUoW7fw"
      }
    },
    {
      "cell_type": "code",
      "source": [
        "# Solve the model\n",
        "model = Process(reformulation='gdp.hull')\n",
        "start = time.time()\n",
        "solver_manager = SolverManagerFactory('neos')\n",
        "results = solver_manager.solve(model, opt='bonmin', tee=True)\n",
        "end = time.time()"
      ],
      "metadata": {
        "id": "twcXg7wKW6nJ"
      },
      "execution_count": null,
      "outputs": []
    },
    {
      "cell_type": "code",
      "source": [
        "result(model,end,start)"
      ],
      "metadata": {
        "colab": {
          "base_uri": "https://localhost:8080/"
        },
        "id": "C29ubvQLb2c3",
        "outputId": "465a7aeb-4657-4375-eb00-bf624a5fc972"
      },
      "execution_count": null,
      "outputs": [
        {
          "output_type": "stream",
          "name": "stdout",
          "text": [
            "Time= 5.003036022186279\n",
            "Objective Value: 63.245552519314316\n",
            "Process 2 is selected.\n",
            "x2 = 3.1622776485874873, y2 = 3.1622776485874873\n"
          ]
        }
      ]
    },
    {
      "cell_type": "markdown",
      "source": [
        "#BigM"
      ],
      "metadata": {
        "id": "9ptoJ-6CcpQE"
      }
    },
    {
      "cell_type": "code",
      "source": [
        "# Solve the model\n",
        "model = Process('gdp.bigm')\n",
        "start = time.time()\n",
        "solver_manager = SolverManagerFactory('neos')\n",
        "results = solver_manager.solve(model, opt='bonmin', tee=True)\n",
        "end = time.time()"
      ],
      "metadata": {
        "id": "vMbFCDfVcrNn"
      },
      "execution_count": null,
      "outputs": []
    },
    {
      "cell_type": "code",
      "source": [
        "result(model,end,start)"
      ],
      "metadata": {
        "colab": {
          "base_uri": "https://localhost:8080/"
        },
        "outputId": "9cb8257a-60a7-4f09-fcb1-c41c9417d546",
        "id": "jGvgwsgScrNn"
      },
      "execution_count": null,
      "outputs": [
        {
          "output_type": "stream",
          "name": "stdout",
          "text": [
            "Time= 2.4269444942474365\n",
            "Objective Value: 12.499999950065577\n",
            "Process 1 is selected.\n",
            "x1 = 2.499999995001, y1 = 2.499999995001\n"
          ]
        }
      ]
    },
    {
      "cell_type": "markdown",
      "source": [
        "#Logic-based Outer Approximation (LOA)"
      ],
      "metadata": {
        "id": "V6hqKFupcw5o"
      }
    },
    {
      "cell_type": "code",
      "source": [
        "# Solve the model\n",
        "model = Process()\n",
        "start = time.time()\n",
        "a= SolverFactory\n",
        "results = SolverFactory('gdpopt.loa').solve(model, mip_solver='glpk', nlp_solver = 'ipopt')\n",
        "end = time.time()"
      ],
      "metadata": {
        "id": "h8RQdnLwczer"
      },
      "execution_count": 17,
      "outputs": []
    },
    {
      "cell_type": "code",
      "source": [
        "result(model,end,start)"
      ],
      "metadata": {
        "id": "ZzL9n39Bczer",
        "colab": {
          "base_uri": "https://localhost:8080/"
        },
        "outputId": "8868d1f0-83da-47a3-c6e1-c5a5ce4de36a"
      },
      "execution_count": 18,
      "outputs": [
        {
          "output_type": "stream",
          "name": "stdout",
          "text": [
            "Time= 0.3022592067718506\n",
            "Objective Value: 12.49999976086124\n",
            "Process 1 is selected.\n",
            "x1 = 2.4999999752505904, y1 = 2.4999999752505904\n"
          ]
        }
      ]
    },
    {
      "cell_type": "markdown",
      "source": [
        "#Global Logic-based Outer Approximation (GLOA)"
      ],
      "metadata": {
        "id": "UrLNlSGbi6G4"
      }
    },
    {
      "cell_type": "code",
      "source": [
        "# Solve the model\n",
        "model = Process()\n",
        "start = time.time()\n",
        "a= SolverFactory\n",
        "results = SolverFactory('gdpopt.gloa').solve(model)\n",
        "end = time.time()"
      ],
      "metadata": {
        "id": "9R-Qr2fliXc8"
      },
      "execution_count": null,
      "outputs": []
    },
    {
      "cell_type": "code",
      "source": [
        "result(model,end,start)"
      ],
      "metadata": {
        "id": "7ZF6LehwjEDt"
      },
      "execution_count": null,
      "outputs": []
    },
    {
      "cell_type": "markdown",
      "source": [
        "#Relaxation with Integer Cuts (RIC)"
      ],
      "metadata": {
        "id": "qSqpF3Qkj2kH"
      }
    },
    {
      "cell_type": "code",
      "source": [
        "# Solve the model\n",
        "model = Process()\n",
        "start = time.time()\n",
        "a= SolverFactory\n",
        "results = SolverFactory('gdpopt.ric').solve(model, mip_solver='glpk')\n",
        "end = time.time()"
      ],
      "metadata": {
        "id": "OAFJ7BSejl51"
      },
      "execution_count": 21,
      "outputs": []
    },
    {
      "cell_type": "code",
      "source": [
        "result(model,end,start)"
      ],
      "metadata": {
        "colab": {
          "base_uri": "https://localhost:8080/"
        },
        "id": "Lkj3IEO4j1ep",
        "outputId": "affdb50b-fe80-4f5d-a87a-fb92937995d8"
      },
      "execution_count": 22,
      "outputs": [
        {
          "output_type": "stream",
          "name": "stdout",
          "text": [
            "Time= 0.26461005210876465\n",
            "Objective Value: 12.499999760859243\n",
            "Process 1 is selected.\n",
            "x1 = 2.4999999752505904, y1 = 2.4999999752505904\n"
          ]
        }
      ]
    },
    {
      "cell_type": "markdown",
      "source": [
        "#Logic-based Branch-and-Bound (LBB)"
      ],
      "metadata": {
        "id": "_L8Cm4bdkWNv"
      }
    },
    {
      "cell_type": "code",
      "source": [
        "# Solve the model\n",
        "model = Process()\n",
        "start = time.time()\n",
        "a= SolverFactory\n",
        "results = SolverFactory('gdpopt.lbb').solve(model, minlp_solver='ipopt')\n",
        "end = time.time()"
      ],
      "metadata": {
        "colab": {
          "base_uri": "https://localhost:8080/"
        },
        "id": "WBnvhOvZjp5G",
        "outputId": "d978df41-ecad-408e-f5c9-4265ebb770f3"
      },
      "execution_count": 27,
      "outputs": [
        {
          "output_type": "stream",
          "name": "stderr",
          "text": [
            "WARNING:pyomo.contrib.gdpopt:09/06/22: The GDPopt LBB algorithm currently has known issues. Please use the results with caution and report any bugs!\n"
          ]
        }
      ]
    },
    {
      "cell_type": "code",
      "source": [
        "result(model,end,start)"
      ],
      "metadata": {
        "colab": {
          "base_uri": "https://localhost:8080/"
        },
        "id": "bv2idadwj_aP",
        "outputId": "b9c49d4b-54ea-4261-ba2e-44a2b227453e"
      },
      "execution_count": 28,
      "outputs": [
        {
          "output_type": "stream",
          "name": "stdout",
          "text": [
            "Time= 0.6028823852539062\n",
            "Objective Value: 12.499999760859309\n",
            "Process 1 is selected.\n",
            "x1 = 2.4999999752505904, y1 = 2.4999999752505904\n"
          ]
        }
      ]
    }
  ]
}